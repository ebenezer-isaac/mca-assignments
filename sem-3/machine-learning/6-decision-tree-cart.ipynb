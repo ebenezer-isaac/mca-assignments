{
  "nbformat": 4,
  "nbformat_minor": 0,
  "metadata": {
    "colab": {
      "name": "3decisiontree_Cart.ipynb",
      "provenance": []
    },
    "kernelspec": {
      "name": "python3",
      "display_name": "Python 3"
    },
    "language_info": {
      "name": "python"
    }
  },
  "cells": [
    {
      "cell_type": "code",
      "metadata": {
        "id": "2j4vH87C_wmU"
      },
      "source": [
        "import numpy as np\n",
        "import matplotlib.pyplot as plt\n",
        "import pandas as pd"
      ],
      "execution_count": null,
      "outputs": []
    },
    {
      "cell_type": "code",
      "metadata": {
        "id": "xd3_eAMnBxVK"
      },
      "source": [
        "dataset = pd.read_csv('spam.csv',encoding='latin-1')\n",
        "X = dataset[\"v2\"]\n",
        "y = dataset[\"v1\"]"
      ],
      "execution_count": null,
      "outputs": []
    },
    {
      "cell_type": "code",
      "metadata": {
        "id": "ufQi94koF5lM",
        "colab": {
          "base_uri": "https://localhost:8080/"
        },
        "outputId": "1ec80d2a-98df-44ce-a29e-b4a46e17ecaa"
      },
      "source": [
        "from sklearn.feature_extraction.text import CountVectorizer\n",
        "vr=CountVectorizer()\n",
        "X=vr.fit_transform(X)\n",
        "X"
      ],
      "execution_count": null,
      "outputs": [
        {
          "output_type": "execute_result",
          "data": {
            "text/plain": [
              "<5572x8672 sparse matrix of type '<class 'numpy.int64'>'\n",
              "\twith 73916 stored elements in Compressed Sparse Row format>"
            ]
          },
          "metadata": {},
          "execution_count": 18
        }
      ]
    },
    {
      "cell_type": "code",
      "metadata": {
        "id": "GpP15xskE_SX"
      },
      "source": [
        "label_encoder = preprocessing.LabelEncoder()\n",
        "y= label_encoder.fit_transform(y)"
      ],
      "execution_count": null,
      "outputs": []
    },
    {
      "cell_type": "code",
      "metadata": {
        "id": "-qEo_Y0QDUKs"
      },
      "source": [
        "from sklearn.model_selection import train_test_split\n",
        "X_train, X_test, y_train, y_test = train_test_split(X, y, test_size = 0.25, random_state = 0)"
      ],
      "execution_count": null,
      "outputs": []
    },
    {
      "cell_type": "code",
      "metadata": {
        "id": "8CAmKVc9EG5P",
        "colab": {
          "base_uri": "https://localhost:8080/"
        },
        "outputId": "71be6d72-6dc2-44b9-efde-a27e6174550f"
      },
      "source": [
        "from sklearn.tree import DecisionTreeClassifier\n",
        "classifier = DecisionTreeClassifier(criterion = 'gini', random_state = 0)\n",
        "classifier.fit(X_train, y_train)"
      ],
      "execution_count": null,
      "outputs": [
        {
          "output_type": "execute_result",
          "data": {
            "text/plain": [
              "DecisionTreeClassifier(random_state=0)"
            ]
          },
          "metadata": {},
          "execution_count": 21
        }
      ]
    },
    {
      "cell_type": "code",
      "metadata": {
        "id": "Bal-7X22GIdg",
        "colab": {
          "base_uri": "https://localhost:8080/"
        },
        "outputId": "e4902b40-6514-48ae-bdb7-a03974c42ed8"
      },
      "source": [
        "y_pred=classifier.predict(X_test)\n",
        "print(classifier.predict(X_test))"
      ],
      "execution_count": null,
      "outputs": [
        {
          "output_type": "stream",
          "name": "stdout",
          "text": [
            "[0 0 0 ... 0 0 1]\n"
          ]
        }
      ]
    },
    {
      "cell_type": "code",
      "metadata": {
        "id": "XcUVg-TuGlKf",
        "colab": {
          "base_uri": "https://localhost:8080/"
        },
        "outputId": "62448d94-d939-40d9-ef6a-ad42f0791313"
      },
      "source": [
        "print(np.concatenate((y_pred.reshape(len(y_pred),1), y_test.reshape(len(y_test),1)),1))"
      ],
      "execution_count": null,
      "outputs": [
        {
          "output_type": "stream",
          "name": "stdout",
          "text": [
            "[[0 0]\n",
            " [0 0]\n",
            " [0 0]\n",
            " ...\n",
            " [0 0]\n",
            " [0 0]\n",
            " [1 1]]\n"
          ]
        }
      ]
    },
    {
      "cell_type": "code",
      "metadata": {
        "id": "PiWtdM36G88-",
        "colab": {
          "base_uri": "https://localhost:8080/"
        },
        "outputId": "5e78a764-1400-4bf1-c289-4cc02adcb024"
      },
      "source": [
        "from sklearn.metrics import confusion_matrix, accuracy_score\n",
        "cm = confusion_matrix(y_test, y_pred)\n",
        "print(cm)\n",
        "accuracy_score(y_test, y_pred)"
      ],
      "execution_count": null,
      "outputs": [
        {
          "output_type": "stream",
          "name": "stdout",
          "text": [
            "[[1182   14]\n",
            " [  30  167]]\n"
          ]
        },
        {
          "output_type": "execute_result",
          "data": {
            "text/plain": [
              "0.968413496051687"
            ]
          },
          "metadata": {},
          "execution_count": 24
        }
      ]
    }
  ]
}