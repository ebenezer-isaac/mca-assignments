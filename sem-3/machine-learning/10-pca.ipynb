{
  "nbformat": 4,
  "nbformat_minor": 0,
  "metadata": {
    "colab": {
      "name": "user_pca.ipynb",
      "provenance": []
    },
    "kernelspec": {
      "name": "python3",
      "display_name": "Python 3"
    },
    "language_info": {
      "name": "python"
    }
  },
  "cells": [
    {
      "cell_type": "code",
      "execution_count": null,
      "metadata": {
        "id": "s-o2Typ9Vjn4"
      },
      "outputs": [],
      "source": [
        "import numpy as np\n",
        "from numpy.linalg import *"
      ]
    },
    {
      "cell_type": "code",
      "source": [
        "# PCA With 3 features\n",
        "\n",
        "A=np.array([[4,8,13,7],[11,4,5,14],[2,3,4,5]])\n",
        "A"
      ],
      "metadata": {
        "colab": {
          "base_uri": "https://localhost:8080/"
        },
        "id": "rfaKaSEMV0DW",
        "outputId": "40bdd67e-69df-4601-fa1f-9a765525d2dc"
      },
      "execution_count": null,
      "outputs": [
        {
          "output_type": "execute_result",
          "data": {
            "text/plain": [
              "array([[ 4,  8, 13,  7],\n",
              "       [11,  4,  5, 14],\n",
              "       [ 2,  3,  4,  5]])"
            ]
          },
          "metadata": {},
          "execution_count": 97
        }
      ]
    },
    {
      "cell_type": "code",
      "source": [
        "xmean=np.mean(A[0])\n",
        "ymean=np.mean(A[1])\n",
        "\n",
        "#Incase of 3*3\n",
        "zmean=np.mean(A[2])\n",
        "N=len(A[0])\n",
        "N"
      ],
      "metadata": {
        "colab": {
          "base_uri": "https://localhost:8080/"
        },
        "id": "TeQL9tlDWWMM",
        "outputId": "655243ea-9bdf-410c-eced-fa1e7ef0733d"
      },
      "execution_count": null,
      "outputs": [
        {
          "output_type": "execute_result",
          "data": {
            "text/plain": [
              "4"
            ]
          },
          "metadata": {},
          "execution_count": 98
        }
      ]
    },
    {
      "cell_type": "code",
      "source": [
        "s=np.cov(A)\n",
        "s"
      ],
      "metadata": {
        "colab": {
          "base_uri": "https://localhost:8080/"
        },
        "id": "cAxfXWzMXDYr",
        "outputId": "b0306386-b38a-4add-cac6-46c98472a117"
      },
      "execution_count": null,
      "outputs": [
        {
          "output_type": "execute_result",
          "data": {
            "text/plain": [
              "array([[ 14.        , -11.        ,   2.33333333],\n",
              "       [-11.        ,  23.        ,   1.66666667],\n",
              "       [  2.33333333,   1.66666667,   1.66666667]])"
            ]
          },
          "metadata": {},
          "execution_count": 99
        }
      ]
    },
    {
      "cell_type": "code",
      "source": [
        "values,vectors=eig(s)\n",
        "vectors\n"
      ],
      "metadata": {
        "colab": {
          "base_uri": "https://localhost:8080/"
        },
        "id": "xg14UJcVYsSV",
        "outputId": "d4bc10a7-2cf0-471f-d625-3d3528265f7d"
      },
      "execution_count": null,
      "outputs": [
        {
          "output_type": "execute_result",
          "data": {
            "text/plain": [
              "array([[-0.55709406,  0.7557635 , -0.34419143],\n",
              "       [ 0.83044423,  0.50552597, -0.23410655],\n",
              "       [ 0.00293148,  0.41625115,  0.90924495]])"
            ]
          },
          "metadata": {},
          "execution_count": 100
        }
      ]
    },
    {
      "cell_type": "code",
      "source": [
        "e=vectors[0] if values[0]>values[1]  and values[0]else vectors[1]\n",
        "e"
      ],
      "metadata": {
        "colab": {
          "base_uri": "https://localhost:8080/"
        },
        "id": "LAkRqDcmY5t8",
        "outputId": "da42e84c-7113-4ef8-e977-f66aedb0fc33"
      },
      "execution_count": null,
      "outputs": [
        {
          "output_type": "execute_result",
          "data": {
            "text/plain": [
              "array([-0.55709406,  0.7557635 , -0.34419143])"
            ]
          },
          "metadata": {},
          "execution_count": 101
        }
      ]
    },
    {
      "cell_type": "code",
      "source": [
        "new=[]\n",
        "for i in range(0,N):\n",
        "  #Incase of 3*3\n",
        "  new.append(e@np.array([A[0][i]-xmean,A[1][i]-ymean,A[2][i]-zmean]))\n",
        "\n",
        "  #Incase of 2*2\n",
        "  #new.append(e@np.array([A[0][i]-xmean,A[1][i]-ymean]))\n",
        "new\n"
      ],
      "metadata": {
        "colab": {
          "base_uri": "https://localhost:8080/"
        },
        "id": "raKFWfWdZ82l",
        "outputId": "be8e78f3-9f08-4e3b-a0fc-f39c60a9f3b9"
      },
      "execution_count": null,
      "outputs": [
        {
          "output_type": "execute_result",
          "data": {
            "text/plain": [
              "[4.63407212961279, -3.2288400486005284, -5.602738263342765, 4.197506182330503]"
            ]
          },
          "metadata": {},
          "execution_count": 102
        }
      ]
    },
    {
      "cell_type": "code",
      "source": [
        "e=vectors[1]\n",
        "new=[]\n",
        "for i in range(0,N):\n",
        "  #Incase of 3*3\n",
        "  new.append(e@np.array([A[0][i]-xmean,A[1][i]-ymean,A[2][i]-zmean]))\n",
        "\n",
        "  #Incase of 2*2\n",
        "  #new.append(e@np.array([A[0][i]-xmean,A[1][i]-ymean]))\n",
        "new"
      ],
      "metadata": {
        "colab": {
          "base_uri": "https://localhost:8080/"
        },
        "id": "G_rE6jNOHBvp",
        "outputId": "9b3b51a6-c0f5-435c-8899-a2cb6a9e7ee4"
      },
      "execution_count": null,
      "outputs": [
        {
          "output_type": "execute_result",
          "data": {
            "text/plain": [
              "[-1.7068021643518556,\n",
              " -2.157813589399303,\n",
              " 2.2658269733752303,\n",
              " 1.5987887803759289]"
            ]
          },
          "metadata": {},
          "execution_count": 103
        }
      ]
    },
    {
      "cell_type": "code",
      "source": [
        "temp=np.transpose(np.matrix([[-4,2.5]]))\n",
        "np.matrix([[-0.5574,-0.8303]])@temp"
      ],
      "metadata": {
        "colab": {
          "base_uri": "https://localhost:8080/"
        },
        "id": "VzU4lP99gSv1",
        "outputId": "36afca3a-e55b-4ceb-e9b4-49fd74016d8f"
      },
      "execution_count": null,
      "outputs": [
        {
          "output_type": "execute_result",
          "data": {
            "text/plain": [
              "matrix([[0.15385]])"
            ]
          },
          "metadata": {},
          "execution_count": 104
        }
      ]
    }
  ]
}